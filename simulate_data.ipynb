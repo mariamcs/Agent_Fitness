{
  "nbformat": 4,
  "nbformat_minor": 0,
  "metadata": {
    "colab": {
      "provenance": [],
      "authorship_tag": "ABX9TyNDVfW/9gv1K7PsOYO1F/rL",
      "include_colab_link": true
    },
    "kernelspec": {
      "name": "python3",
      "display_name": "Python 3"
    },
    "language_info": {
      "name": "python"
    }
  },
  "cells": [
    {
      "cell_type": "markdown",
      "metadata": {
        "id": "view-in-github",
        "colab_type": "text"
      },
      "source": [
        "<a href=\"https://colab.research.google.com/github/mariamcs/Agent_Fitness/blob/main/simulate_data.ipynb\" target=\"_parent\"><img src=\"https://colab.research.google.com/assets/colab-badge.svg\" alt=\"Open In Colab\"/></a>"
      ]
    },
    {
      "cell_type": "code",
      "execution_count": null,
      "metadata": {
        "id": "JqgVEjHuKwgg"
      },
      "outputs": [],
      "source": [
        "import pandas as pd\n",
        "import random\n",
        "from datetime import datetime, timedelta\n",
        "\n",
        "# Define simulation settings\n",
        "clients = [f\"C{str(i).zfill(3)}\" for i in range(1, 251)]  # 250 clients\n",
        "coaches = [\"Alex\", \"Jamie\", \"Taylor\", \"Jordan\"]\n",
        "class_times = {\n",
        "    \"Monday\":    [\"6:00AM\", \"7:15AM\", \"8:30AM\", \"5:00PM\", \"6:15PM\"],\n",
        "    \"Tuesday\":   [\"6:00AM\", \"7:15AM\", \"8:30AM\", \"5:00PM\", \"6:15PM\"],\n",
        "    \"Wednesday\": [\"6:00AM\", \"7:15AM\", \"8:30AM\", \"5:00PM\", \"6:15PM\"],\n",
        "    \"Thursday\":  [\"6:00AM\", \"7:15AM\", \"8:30AM\", \"5:00PM\", \"6:15PM\"],\n",
        "    \"Friday\":    [\"6:00AM\", \"5:00PM\"],\n",
        "    \"Saturday\":  [\"8:00AM\", \"9:30AM\"],\n",
        "    \"Sunday\":    [\"9:00AM\"]\n",
        "}\n",
        "\n",
        "start_date = datetime(2024, 6, 1)\n",
        "end_date = datetime(2024, 6, 30)\n",
        "\n",
        "# Simulate data\n",
        "records = []\n",
        "current_date = start_date\n",
        "while current_date <= end_date:\n",
        "    day = current_date.strftime('%A')\n",
        "    if day in class_times:\n",
        "        for time in class_times[day]:\n",
        "            class_id = f\"{current_date.strftime('%Y-%m-%d')} {time}\"\n",
        "            coach = random.choice(coaches)\n",
        "            attending_clients = random.sample(clients, k=random.randint(10, 40))\n",
        "            for client in attending_clients:\n",
        "                records.append({\n",
        "                    \"date\": current_date.strftime('%Y-%m-%d'),\n",
        "                    \"day\": day,\n",
        "                    \"time\": time,\n",
        "                    \"client_id\": client,\n",
        "                    \"coach\": coach\n",
        "                })\n",
        "    current_date += timedelta(days=1)\n",
        "\n",
        "# Save to CSV\n",
        "df_attendance = pd.DataFrame(records)\n",
        "df_attendance.to_csv(\"simulated_attendance.csv\", index=False)\n",
        "df_attendance.head()\n"
      ]
    }
  ]
}