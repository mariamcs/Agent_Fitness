{
  "nbformat": 4,
  "nbformat_minor": 0,
  "metadata": {
    "colab": {
      "provenance": [],
      "authorship_tag": "ABX9TyNSzRjuSTCDb6MgeHNzphGS",
      "include_colab_link": true
    },
    "kernelspec": {
      "name": "python3",
      "display_name": "Python 3"
    },
    "language_info": {
      "name": "python"
    }
  },
  "cells": [
    {
      "cell_type": "markdown",
      "metadata": {
        "id": "view-in-github",
        "colab_type": "text"
      },
      "source": [
        "<a href=\"https://colab.research.google.com/github/mariamcs/Agent_Fitness/blob/main/generate_data.ipynb\" target=\"_parent\"><img src=\"https://colab.research.google.com/assets/colab-badge.svg\" alt=\"Open In Colab\"/></a>"
      ]
    },
    {
      "cell_type": "code",
      "execution_count": null,
      "metadata": {
        "id": "JqgVEjHuKwgg"
      },
      "outputs": [],
      "source": [
        "import pandas as pd\n",
        "import random\n",
        "from datetime import datetime, timedelta\n",
        "\n",
        "# Create 200 unique clients\n",
        "clients = [f\"C{str(i).zfill(4)}\" for i in range(1, 201)]\n",
        "\n",
        "# Identify 25 clients who only attend 8:30AM weekday classes\n",
        "morning_loyal_clients = random.sample(clients, 25)\n",
        "\n",
        "# Define trainer schedules\n",
        "trainer_schedule = {\n",
        "    \"Monday\":    {\"morning\": \"Trainer A\", \"evening\": \"Trainer D\"},\n",
        "    \"Tuesday\":   {\"morning\": \"Trainer A\", \"evening\": \"Trainer C\"},\n",
        "    \"Wednesday\": {\"morning\": \"Trainer A\", \"evening\": \"Trainer B\"},\n",
        "    \"Thursday\":  {\"morning\": \"Trainer A\", \"evening\": \"Trainer B\"},\n",
        "    \"Friday\":    {\"morning\": \"Trainer B\", \"evening\": \"Trainer D\"},\n",
        "    \"Saturday\":  {\"morning\": \"Trainer A\"},\n",
        "    \"Sunday\":    {\"morning\": \"Trainer D\"}\n",
        "}\n",
        "\n",
        "# Define class times\n",
        "morning_times = [\"6:00AM\", \"7:15AM\", \"8:30AM\"]\n",
        "evening_times = [\"5:00PM\", \"6:15PM\"]\n",
        "\n",
        "# Simulation date range\n",
        "start_date = datetime(2024, 7, 1)\n",
        "end_date = datetime(2025, 7, 1)\n",
        "\n",
        "# Build records\n",
        "records = []\n",
        "current_date = start_date\n",
        "while current_date <= end_date:\n",
        "    day = current_date.strftime('%A')\n",
        "    if day in trainer_schedule:\n",
        "        if \"morning\" in trainer_schedule[day]:\n",
        "            trainer = trainer_schedule[day][\"morning\"]\n",
        "            for time in morning_times:\n",
        "                class_clients = []\n",
        "                if time == \"8:30AM\" and day in [\"Monday\", \"Tuesday\", \"Wednesday\", \"Thursday\"]:\n",
        "                    class_clients += random.sample(morning_loyal_clients, random.randint(5, 20))\n",
        "                class_clients += random.sample(clients, random.randint(5, 25))\n",
        "                for client in set(class_clients):\n",
        "                    records.append({\n",
        "                        \"date\": current_date.strftime('%Y-%m-%d'),\n",
        "                        \"day\": day,\n",
        "                        \"time\": time,\n",
        "                        \"trainer\": trainer,\n",
        "                        \"client_id\": client\n",
        "                    })\n",
        "        if \"evening\" in trainer_schedule[day]:\n",
        "            trainer = trainer_schedule[day][\"evening\"]\n",
        "            for time in evening_times:\n",
        "                class_clients = random.sample(clients, random.randint(10, 30))\n",
        "                for client in class_clients:\n",
        "                    records.append({\n",
        "                        \"date\": current_date.strftime('%Y-%m-%d'),\n",
        "                        \"day\": day,\n",
        "                        \"time\": time,\n",
        "                        \"trainer\": trainer,\n",
        "                        \"client_id\": client\n",
        "                    })\n",
        "    current_date += timedelta(days=1)\n",
        "\n",
        "# Convert to DataFrame\n",
        "df_year_attendance = pd.DataFrame(records)\n",
        "df_year_attendance.to_csv(\"yearly_attendance.csv\", index=False)\n",
        "df_year_attendance.head()\n"
      ]
    }
  ]
}